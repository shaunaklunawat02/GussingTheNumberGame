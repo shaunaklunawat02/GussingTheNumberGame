{
 "cells": [
  {
   "cell_type": "code",
   "execution_count": 1,
   "metadata": {},
   "outputs": [
    {
     "name": "stdout",
     "output_type": "stream",
     "text": [
      " * The number ranges from 1-10. *\n",
      " * You have only 3 attempts to guess the number right * \n",
      "Guess the number : 5\n",
      "Your guess is wrong, please try again \n",
      "Guess the number : 6\n",
      "Your guess is wrong, please try again \n",
      "Guess the number : 9\n",
      "Hurray!!\n",
      "you have guessed the number right, It's 9\n"
     ]
    }
   ],
   "source": [
    "import random\n",
    "number = random.randint(1,10)\n",
    "print(\" * The number ranges from 1-10. *\")\n",
    "print(\" * You have only 3 attempts to guess the number right * \")\n",
    "\n",
    "for i in range (0,3):\n",
    "    user = int(input(\"Guess the number : \"))\n",
    "    if user == number:\n",
    "        print(\"Hurray!!\")\n",
    "        print(f\"you have guessed the number right, It's {number}\")\n",
    "        break\n",
    "    if user != number:\n",
    "              print (f\"Your guess is wrong, please try again \")\n",
    "              "
   ]
  },
  {
   "cell_type": "code",
   "execution_count": null,
   "metadata": {},
   "outputs": [],
   "source": []
  }
 ],
 "metadata": {
  "kernelspec": {
   "display_name": "Python 3",
   "language": "python",
   "name": "python3"
  },
  "language_info": {
   "codemirror_mode": {
    "name": "ipython",
    "version": 3
   },
   "file_extension": ".py",
   "mimetype": "text/x-python",
   "name": "python",
   "nbconvert_exporter": "python",
   "pygments_lexer": "ipython3",
   "version": "3.8.5"
  }
 },
 "nbformat": 4,
 "nbformat_minor": 4
}
